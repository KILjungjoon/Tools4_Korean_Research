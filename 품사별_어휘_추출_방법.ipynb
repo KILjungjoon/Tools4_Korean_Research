{
  "nbformat": 4,
  "nbformat_minor": 0,
  "metadata": {
    "colab": {
      "provenance": [],
      "collapsed_sections": [],
      "authorship_tag": "ABX9TyMgNj+Hc3KRcMyUZDioy8f2",
      "include_colab_link": true
    },
    "kernelspec": {
      "name": "python3",
      "display_name": "Python 3"
    },
    "language_info": {
      "name": "python"
    }
  },
  "cells": [
    {
      "cell_type": "markdown",
      "metadata": {
        "id": "view-in-github",
        "colab_type": "text"
      },
      "source": [
        "<a href=\"https://colab.research.google.com/github/KILjungjoon/Tools4_Korean_Research/blob/main/%ED%92%88%EC%82%AC%EB%B3%84_%EC%96%B4%ED%9C%98_%EC%B6%94%EC%B6%9C_%EB%B0%A9%EB%B2%95.ipynb\" target=\"_parent\"><img src=\"https://colab.research.google.com/assets/colab-badge.svg\" alt=\"Open In Colab\"/></a>"
      ]
    },
    {
      "cell_type": "markdown",
      "source": [
        "샘플 텍스트로 노래 가사를 사용해 보자.(윤종신 <오르막길>)"
      ],
      "metadata": {
        "id": "yn7jz97HZA7f"
      }
    },
    {
      "cell_type": "code",
      "execution_count": null,
      "metadata": {
        "id": "WzdBVpm7YWTF"
      },
      "outputs": [],
      "source": [
        "오르막길=\"\"\"이제부터 웃음기 사라질 거야\n",
        "가파른 이 길을 좀 봐\n",
        "그래 오르기 전에\n",
        "미소를 기억해두자\n",
        "오랫동안 못 볼지 몰라\n",
        "완만했던 우리가 지나온 길엔\n",
        "달콤한 사랑의 향기\n",
        "이제 끈적이는 땀\n",
        "거칠게 내쉬는 숨이\n",
        "우리 유일한 대화일지 몰라\n",
        "한걸음 이제 한 걸음일 뿐\n",
        "아득한 저 끝은 보지 마\n",
        "평온했던 길처럼\n",
        "계속 나를 바라봐 줘\n",
        "그러면 견디겠어\n",
        "사랑해 이 길 함께 가는 그대\n",
        "굳이 고된 나를 택한 그대여\n",
        "가끔 바람이 불 때만\n",
        "저 먼 풍경을 바라봐\n",
        "올라온 만큼 아름다운 우리 길\n",
        "기억해 혹시 우리 손 놓쳐도\n",
        "절대 당황하고 헤매지 마요\n",
        "더 이상 오를 곳 없는\n",
        "그곳은 넓지 않아서\n",
        "우린 결국엔 만나 오른다면\n",
        "한 걸음 이제 한 걸음일 뿐\n",
        "아득한 저 끝은 보지 마\n",
        "평온했던 길처럼\n",
        "계속 나를 바라봐 줘\n",
        "그러면 견디겠어\n",
        "사랑해 이 길 함께 가는 그대여\n",
        "굳이 고된 나를 택한 그대여\n",
        "가끔 바람이 불 때만\n",
        "저 먼 풍경을 바라봐\n",
        "올라온 만큼 아름다운 우리 길\n",
        "기억해 혹시 우리 손 놓쳐도\n",
        "절대 당황하고 헤매지 마요\n",
        "더 이상 오를 곳 없는\n",
        "그곳은 넓지 않아서\n",
        "우린 결국엔 만나\n",
        "크게 소리쳐\n",
        "사랑해요\n",
        "저 끝까지\"\"\""
      ]
    },
    {
      "cell_type": "markdown",
      "source": [
        "형태소 분석을 한 결과는 다음과 같다."
      ],
      "metadata": {
        "id": "Bt6FXIyNZ8OV"
      }
    },
    {
      "cell_type": "code",
      "source": [
        "rt=\"이제__01/NNG+부터/JX 웃음기/NNG 사라지/VV+ㄹ/ETM 것__01/NNB+이/VCP+야/EC 가파르/VA+ㄴ/ETM 이__05/MM 길__01/NNG+을/JKO 좀__02/MAG 보__01/VV+아/EC 그러/VV+어/EC 오르/VV+기/ETN 전__08/NNG+에/JKB 미소__05/NNG+를/JKO 기억하__02/VV+여/EC+두__01/VX+자/EC 오랫동안/NNG 못__04/MAG 보__01/VV+ㄹ지/EC 모르/VV+아/EC 완만하__04/VA+였/EP+던/ETM 우리__03/NP+가/JKS 지나오/VV+ㄴ/ETM 길__01/NNG+에/JKB+ㄴ/JX 달콤하/VA+ㄴ/ETM 사랑__01/NNG+의/JKG 향기__01/NNG 이제__01/MAG 끈적이/VV+는/ETM 땀__01/NNG 거칠/VA+게/EC 내쉬/VV+는/ETM 숨__01/NNG+이/JKS 우리__03/NP 유일하__03/VA+ㄴ/ETM 대화__06/NNG+이/VCP+ㄹ지/EC 모르/VV+아/EC 한걸음/NNG 이제__01/MAG 한__01/MM 걸음/NNG+이/VCP+ㄹ/ETM 뿐__01/NNB 아득하/VA+ㄴ/ETM 저__04/MM 끝__01/NNG+은/JX 보__01/VV+지/EC 말__03/VX+아/EC 평온하/VA+였/EP+던/ETM 길__01/NNG+처럼/JKB 계속__04/MAG 나__03/NP+를/JKO 바라보/VV+아/EC 주__01/VX+어/EC 그러면/MAJ 견디/VV+겠/EP+어/EC 사랑하/VV+여/EC 이__05/MM 길__01/NNG 함께/MAG 가__01/VV+는/ETM 그대/NP 굳이/MAG 고되/VA+ㄴ/ETM 나__03/NP+를/JKO 택하/VV+ㄴ/ETM 그대/NP+여/JKV 가끔/MAG 바람__01/NNG+이/JKS 불__01/VV+ㄹ/ETM 때__01/NNG+만/JX 저__04/MM 멀__02/VA+ㄴ/ETM 풍경__01/NNG+을/JKO 바라보/VV+아/EC 올라오/VV+ㄴ/ETM 만큼/NNB 아름답/VA+ㄴ/ETM 우리__03/NP 길__01/NNG 기억하__02/VV+여/EC 혹시__01/MAG 우리__03/NP 손__01/NNG 놓치/VV+어도/EC 절대__05/MAG 당황하/VV+고/EC 헤매/VV+지/EC 말__03/VX+아요/EC 더__01/MAG 이상__05/NNG 오르/VV+ㄹ/ETM 곳__01/NNG 없__01/VA+는/ETM 그곳/NP+은/JX 넓/VA+지/EC 않/VX+아서/EC 우리__03/NP+ㄴ/JX 결국/NNG+에/JKB+ㄴ/JX 만나/VV+아/EC 오르/VV+ㄴ다면/EC 한__01/MM 걸음/NNG 이제__01/MAG 한__01/MM 걸음/NNG+이/VCP+ㄹ/ETM 뿐__01/NNB 아득하/VA+ㄴ/ETM 저__04/MM 끝__01/NNG+은/JX 보__01/VV+지/EC 말__03/VX+아/EC 평온하/VA+였/EP+던/ETM 길__01/NNG+처럼/JKB 계속__04/MAG 나__03/NP+를/JKO 바라보/VV+아/EC 주__01/VX+어/EC 그러면/MAJ 견디/VV+겠/EP+어/EC 사랑하/VV+여/EC 이__05/MM 길__01/NNG 함께/MAG 가__01/VV+는/ETM 그대/NP+여/JKV 굳이/MAG 고되/VA+ㄴ/ETM 나__03/NP+를/JKO 택하/VV+ㄴ/ETM 그대/NP+여/JKV 가끔/MAG 바람__01/NNG+이/JKS 불__01/VV+ㄹ/ETM 때__01/NNG+만/JX 저__04/MM 멀__02/VA+ㄴ/ETM 풍경__01/NNG+을/JKO 바라보/VV+아/EC 올라오/VV+ㄴ/ETM 만큼/NNB 아름답/VA+ㄴ/ETM 우리__03/NP 길__01/NNG 기억하__02/VV+여/EC 혹시__01/MAG 우리__03/NP 손__01/NNG 놓치/VV+어도/EC 절대__05/MAG 당황하/VV+고/EC 헤매/VV+지/EC 말__03/VX+아요/EC 더__01/MAG 이상__05/NNG 오르/VV+ㄹ/ETM 곳__01/NNG 없__01/VA+는/ETM 그곳/NP+은/JX 넓/VA+지/EC 않/VX+아서/EC 우리__03/NP+ㄴ/JX 결국/NNG+에/JKB+ㄴ/JX 만나/VV+아/EC 크__01/VA+게/EC 소리치/VV+어/EC 사랑하/VV+여요/EC 저__04/MM 끝__01/NNG+까지/JX\""
      ],
      "metadata": {
        "id": "QjpPxSOxZ7kY"
      },
      "execution_count": 2,
      "outputs": []
    },
    {
      "cell_type": "markdown",
      "source": [
        "간단한 전처리를 했다. +와 __ 처리"
      ],
      "metadata": {
        "id": "CbkgGuOaazZv"
      }
    },
    {
      "cell_type": "code",
      "source": [
        "rt=rt.replace(\"+\",\" \")    # +는 공백 한 칸으로 교체\n",
        "rt=rt.replace(\"__\",\"\")    # __는 제거\n",
        "rt"
      ],
      "metadata": {
        "colab": {
          "base_uri": "https://localhost:8080/",
          "height": 181
        },
        "id": "hdwkQFQ5asmF",
        "outputId": "1b8c5d25-377a-4591-c6c4-714eb3009c20"
      },
      "execution_count": 4,
      "outputs": [
        {
          "output_type": "execute_result",
          "data": {
            "text/plain": [
              "'이제01/NNG 부터/JX 웃음기/NNG 사라지/VV ㄹ/ETM 것01/NNB 이/VCP 야/EC 가파르/VA ㄴ/ETM 이05/MM 길01/NNG 을/JKO 좀02/MAG 보01/VV 아/EC 그러/VV 어/EC 오르/VV 기/ETN 전08/NNG 에/JKB 미소05/NNG 를/JKO 기억하02/VV 여/EC 두01/VX 자/EC 오랫동안/NNG 못04/MAG 보01/VV ㄹ지/EC 모르/VV 아/EC 완만하04/VA 였/EP 던/ETM 우리03/NP 가/JKS 지나오/VV ㄴ/ETM 길01/NNG 에/JKB ㄴ/JX 달콤하/VA ㄴ/ETM 사랑01/NNG 의/JKG 향기01/NNG 이제01/MAG 끈적이/VV 는/ETM 땀01/NNG 거칠/VA 게/EC 내쉬/VV 는/ETM 숨01/NNG 이/JKS 우리03/NP 유일하03/VA ㄴ/ETM 대화06/NNG 이/VCP ㄹ지/EC 모르/VV 아/EC 한걸음/NNG 이제01/MAG 한01/MM 걸음/NNG 이/VCP ㄹ/ETM 뿐01/NNB 아득하/VA ㄴ/ETM 저04/MM 끝01/NNG 은/JX 보01/VV 지/EC 말03/VX 아/EC 평온하/VA 였/EP 던/ETM 길01/NNG 처럼/JKB 계속04/MAG 나03/NP 를/JKO 바라보/VV 아/EC 주01/VX 어/EC 그러면/MAJ 견디/VV 겠/EP 어/EC 사랑하/VV 여/EC 이05/MM 길01/NNG 함께/MAG 가01/VV 는/ETM 그대/NP 굳이/MAG 고되/VA ㄴ/ETM 나03/NP 를/JKO 택하/VV ㄴ/ETM 그대/NP 여/JKV 가끔/MAG 바람01/NNG 이/JKS 불01/VV ㄹ/ETM 때01/NNG 만/JX 저04/MM 멀02/VA ㄴ/ETM 풍경01/NNG 을/JKO 바라보/VV 아/EC 올라오/VV ㄴ/ETM 만큼/NNB 아름답/VA ㄴ/ETM 우리03/NP 길01/NNG 기억하02/VV 여/EC 혹시01/MAG 우리03/NP 손01/NNG 놓치/VV 어도/EC 절대05/MAG 당황하/VV 고/EC 헤매/VV 지/EC 말03/VX 아요/EC 더01/MAG 이상05/NNG 오르/VV ㄹ/ETM 곳01/NNG 없01/VA 는/ETM 그곳/NP 은/JX 넓/VA 지/EC 않/VX 아서/EC 우리03/NP ㄴ/JX 결국/NNG 에/JKB ㄴ/JX 만나/VV 아/EC 오르/VV ㄴ다면/EC 한01/MM 걸음/NNG 이제01/MAG 한01/MM 걸음/NNG 이/VCP ㄹ/ETM 뿐01/NNB 아득하/VA ㄴ/ETM 저04/MM 끝01/NNG 은/JX 보01/VV 지/EC 말03/VX 아/EC 평온하/VA 였/EP 던/ETM 길01/NNG 처럼/JKB 계속04/MAG 나03/NP 를/JKO 바라보/VV 아/EC 주01/VX 어/EC 그러면/MAJ 견디/VV 겠/EP 어/EC 사랑하/VV 여/EC 이05/MM 길01/NNG 함께/MAG 가01/VV 는/ETM 그대/NP 여/JKV 굳이/MAG 고되/VA ㄴ/ETM 나03/NP 를/JKO 택하/VV ㄴ/ETM 그대/NP 여/JKV 가끔/MAG 바람01/NNG 이/JKS 불01/VV ㄹ/ETM 때01/NNG 만/JX 저04/MM 멀02/VA ㄴ/ETM 풍경01/NNG 을/JKO 바라보/VV 아/EC 올라오/VV ㄴ/ETM 만큼/NNB 아름답/VA ㄴ/ETM 우리03/NP 길01/NNG 기억하02/VV 여/EC 혹시01/MAG 우리03/NP 손01/NNG 놓치/VV 어도/EC 절대05/MAG 당황하/VV 고/EC 헤매/VV 지/EC 말03/VX 아요/EC 더01/MAG 이상05/NNG 오르/VV ㄹ/ETM 곳01/NNG 없01/VA 는/ETM 그곳/NP 은/JX 넓/VA 지/EC 않/VX 아서/EC 우리03/NP ㄴ/JX 결국/NNG 에/JKB ㄴ/JX 만나/VV 아/EC 크01/VA 게/EC 소리치/VV 어/EC 사랑하/VV 여요/EC 저04/MM 끝01/NNG 까지/JX'"
            ],
            "application/vnd.google.colaboratory.intrinsic+json": {
              "type": "string"
            }
          },
          "metadata": {},
          "execution_count": 4
        }
      ]
    },
    {
      "cell_type": "markdown",
      "source": [
        "특정 품사 단어만 추출해 보자. ex)명사"
      ],
      "metadata": {
        "id": "hjESFc6KaUs3"
      }
    },
    {
      "cell_type": "code",
      "source": [
        "nng=[]\n",
        "for t in rt.split() :\n",
        "    w=t.split(\"/\")\n",
        "    if w[1] in \"NNG\" :\n",
        "        nng.append(w[0])\n",
        "print(nng)"
      ],
      "metadata": {
        "colab": {
          "base_uri": "https://localhost:8080/"
        },
        "id": "k9gAaarqbbY2",
        "outputId": "b5ae9039-41aa-4871-fac2-f2098991163b"
      },
      "execution_count": 5,
      "outputs": [
        {
          "output_type": "stream",
          "name": "stdout",
          "text": [
            "['이제01', '웃음기', '길01', '전08', '미소05', '오랫동안', '길01', '사랑01', '향기01', '땀01', '숨01', '대화06', '한걸음', '걸음', '끝01', '길01', '길01', '바람01', '때01', '풍경01', '길01', '손01', '이상05', '곳01', '결국', '걸음', '걸음', '끝01', '길01', '길01', '바람01', '때01', '풍경01', '길01', '손01', '이상05', '곳01', '결국', '끝01']\n"
          ]
        }
      ]
    },
    {
      "cell_type": "markdown",
      "source": [
        "조사는 품사명이 J로 시작하므로 다음과 같은 코드로 모든 조사를 추출할 수 있다."
      ],
      "metadata": {
        "id": "b-AkyS-GcZ1b"
      }
    },
    {
      "cell_type": "code",
      "source": [
        "josa=[]\n",
        "for t in rt.split() :\n",
        "    w=t.split(\"/\")\n",
        "    if w[1][0] == \"J\" :\n",
        "        josa.append(w[0])\n",
        "print(josa)"
      ],
      "metadata": {
        "colab": {
          "base_uri": "https://localhost:8080/"
        },
        "outputId": "e4bc478c-db45-4256-c1e3-3611bc4d69b6",
        "id": "ySoYOsDYcE4o"
      },
      "execution_count": 6,
      "outputs": [
        {
          "output_type": "stream",
          "name": "stdout",
          "text": [
            "['부터', '을', '에', '를', '가', '에', 'ㄴ', '의', '이', '은', '처럼', '를', '를', '여', '이', '만', '을', '은', 'ㄴ', '에', 'ㄴ', '은', '처럼', '를', '여', '를', '여', '이', '만', '을', '은', 'ㄴ', '에', 'ㄴ', '까지']\n"
          ]
        }
      ]
    },
    {
      "cell_type": "markdown",
      "source": [
        "원하는 특정 품사들을 지정해서 추출할 수도 있다."
      ],
      "metadata": {
        "id": "9kDFOSJXdPuI"
      }
    },
    {
      "cell_type": "code",
      "source": [
        "content_words=[]\n",
        "content_pos=[\"NNG\", \"VV\", \"VA\", \"MAG\"]   # 명사, 동사, 형용사, 부사\n",
        "for t in rt.split() :\n",
        "    w=t.split(\"/\")\n",
        "    if w[1] in content_pos :\n",
        "        content_words.append(w[0])\n",
        "print(content_words)"
      ],
      "metadata": {
        "colab": {
          "base_uri": "https://localhost:8080/"
        },
        "id": "yq_RQW51aTyW",
        "outputId": "fb0ddcdb-9aed-4983-e089-29d5b965be3a"
      },
      "execution_count": 8,
      "outputs": [
        {
          "output_type": "stream",
          "name": "stdout",
          "text": [
            "['이제01', '웃음기', '사라지', '가파르', '길01', '좀02', '보01', '그러', '오르', '전08', '미소05', '기억하02', '오랫동안', '못04', '보01', '모르', '완만하04', '지나오', '길01', '달콤하', '사랑01', '향기01', '이제01', '끈적이', '땀01', '거칠', '내쉬', '숨01', '유일하03', '대화06', '모르', '한걸음', '이제01', '걸음', '아득하', '끝01', '보01', '평온하', '길01', '계속04', '바라보', '견디', '사랑하', '길01', '함께', '가01', '굳이', '고되', '택하', '가끔', '바람01', '불01', '때01', '멀02', '풍경01', '바라보', '올라오', '아름답', '길01', '기억하02', '혹시01', '손01', '놓치', '절대05', '당황하', '헤매', '더01', '이상05', '오르', '곳01', '없01', '넓', '결국', '만나', '오르', '걸음', '이제01', '걸음', '아득하', '끝01', '보01', '평온하', '길01', '계속04', '바라보', '견디', '사랑하', '길01', '함께', '가01', '굳이', '고되', '택하', '가끔', '바람01', '불01', '때01', '멀02', '풍경01', '바라보', '올라오', '아름답', '길01', '기억하02', '혹시01', '손01', '놓치', '절대05', '당황하', '헤매', '더01', '이상05', '오르', '곳01', '없01', '넓', '결국', '만나', '크01', '소리치', '사랑하', '끝01']\n"
          ]
        }
      ]
    }
  ]
}