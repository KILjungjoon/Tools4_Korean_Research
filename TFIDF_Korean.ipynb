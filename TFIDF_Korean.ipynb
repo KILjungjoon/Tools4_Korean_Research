{
  "nbformat": 4,
  "nbformat_minor": 0,
  "metadata": {
    "colab": {
      "name": "TFIDF_Korean",
      "provenance": [],
      "collapsed_sections": [],
      "toc_visible": true
    },
    "kernelspec": {
      "name": "python3",
      "display_name": "Python 3"
    },
    "language_info": {
      "name": "python"
    }
  },
  "cells": [
    {
      "cell_type": "markdown",
      "metadata": {
        "id": "F4ZWv7z9KYDa"
      },
      "source": [
        "### 1 . To define a TF function [문서 내의 단어들의 출현 빈도(TF)를 세는 함수 정의]"
      ]
    },
    {
      "cell_type": "code",
      "metadata": {
        "id": "OFCZwRE4-7tQ"
      },
      "source": [
        "import pandas as pd\n",
        "\n",
        "def get_term_frequency(document, word_dict=None): \n",
        "  if word_dict is None:\n",
        "      word_dict = {} \n",
        "  words = document.split()\n",
        "\n",
        "  for w in words:\n",
        "      word_dict[w] = 1 + (0 if word_dict.get(w) is None else word_dict[w])\n",
        "\n",
        "  return pd.Series(word_dict).sort_values (ascending=False)"
      ],
      "execution_count": 1,
      "outputs": []
    },
    {
      "cell_type": "markdown",
      "metadata": {
        "id": "Gp7Bid9NQIhJ"
      },
      "source": [
        "### 2 . To define a DF function [단어가 출현한 문서 개수(DF)를 세는 함수 정의]"
      ]
    },
    {
      "cell_type": "code",
      "metadata": {
        "id": "D9f9QzGdK2rD"
      },
      "source": [
        "def get_document_frequency(documents):\n",
        "    dicts = []\n",
        "    vocab = set([]) \n",
        "    df = {}\n",
        "\n",
        "    for d in documents:\n",
        "        tf = get_term_frequency(d) \n",
        "        dicts += [tf] \n",
        "        vocab = vocab | set(tf.keys())\n",
        "\n",
        "    for v in list(vocab):\n",
        "        df[v] = 0 \n",
        "        for dict_d in dicts: \n",
        "            if dict_d.get(v) is not None:\n",
        "                df[v] += 1\n",
        "\n",
        "    return pd. Series(df).sort_values(ascending=False)"
      ],
      "execution_count": 2,
      "outputs": []
    },
    {
      "cell_type": "markdown",
      "metadata": {
        "id": "w15gE06UdZuT"
      },
      "source": [
        "### 3 . To read texts(songs) [문서(노래) 불러오기]"
      ]
    },
    {
      "cell_type": "code",
      "metadata": {
        "id": "P1vBTI0IKnGS"
      },
      "source": [
        "f= open(\"/content/가로수 그늘 아래 서면.txt\", 'r')\n",
        "doc1 = f.read()\n",
        "f= open(\"/content/광화문 연가.txt\", 'r')\n",
        "doc2 = f.read()\n",
        "f= open(\"/content/기억이란 사랑보다.txt\", 'r')\n",
        "doc3 = f.read()\n",
        "f= open(\"/content/붉은 노을.txt\", 'r')\n",
        "doc4 = f.read()\n",
        "f= open(\"/content/시를 위한 시.txt\", 'r')\n",
        "doc5 = f.read()\n",
        "f= open(\"/content/옛사랑.txt\", 'r')\n",
        "doc6 = f.read()\n",
        "f.close()"
      ],
      "execution_count": null,
      "outputs": []
    },
    {
      "cell_type": "markdown",
      "metadata": {
        "id": "nmJdXeJzdyqd"
      },
      "source": [
        "### 4 . To make tf-idf function [TF-IDF함수 만들기]"
      ]
    },
    {
      "cell_type": "code",
      "metadata": {
        "id": "MCqtihBiLNg3"
      },
      "source": [
        "def get_tfidf(docs):\n",
        "    vocab = {} \n",
        "    tfs = [] \n",
        "    for d in docs:\n",
        "        vocab = get_term_frequency(d, vocab)\n",
        "        tfs += [get_term_frequency(d)] \n",
        "    df = get_document_frequency(docs)\n",
        "\n",
        "    from operator import itemgetter \n",
        "    import numpy as np\n",
        "\n",
        "    stats = [] \n",
        "    for word, freq in vocab.items():\n",
        "        tfidfs = [] \n",
        "        for idx in range(len(docs)):\n",
        "            if tfs[idx].get(word) is not None:\n",
        "                tfidfs += [tfs[idx][word] * np.log(len(docs) / df[word])] \n",
        "            else:\n",
        "                tfidfs += [0]\n",
        "\n",
        "        stats.append((word, freq, *tfidfs, max(tfidfs)))\n",
        "\n",
        "    return pd.DataFrame(stats, columns=('word',\n",
        "                                        'frequency', \n",
        "                                        'doc1', \n",
        "                                        'doc2', \n",
        "                                        'doc3',\n",
        "                                        'doc4',  \n",
        "                                        'doc5',\n",
        "                                        'doc6',\n",
        "                                        'max')).sort_values('max', ascending=False)"
      ],
      "execution_count": null,
      "outputs": []
    },
    {
      "cell_type": "markdown",
      "metadata": {
        "id": "Wh-CBTOlepjp"
      },
      "source": [
        "### 5 . To convert to a DataFrame and check its form [데이터프레임으로 변환, 형태 확인]"
      ]
    },
    {
      "cell_type": "code",
      "metadata": {
        "colab": {
          "base_uri": "https://localhost:8080/"
        },
        "id": "OV0Ld5uKMm1y",
        "outputId": "6e2af915-1823-4122-ad15-d3b5c1c600b9"
      },
      "source": [
        "df=pd.DataFrame(get_tfidf([doc1, doc2, doc3, doc4, doc5, doc6]))\n",
        "df.shape"
      ],
      "execution_count": null,
      "outputs": [
        {
          "output_type": "execute_result",
          "data": {
            "text/plain": [
              "(291, 9)"
            ]
          },
          "metadata": {
            "tags": []
          },
          "execution_count": 11
        }
      ]
    },
    {
      "cell_type": "code",
      "metadata": {
        "colab": {
          "base_uri": "https://localhost:8080/",
          "height": 359
        },
        "id": "cemegKbccv__",
        "outputId": "9bf1a3b7-53c1-42ba-beac-7c5cde1f0cbb"
      },
      "source": [
        "df.head(10)"
      ],
      "execution_count": null,
      "outputs": [
        {
          "output_type": "execute_result",
          "data": {
            "text/html": [
              "<div>\n",
              "<style scoped>\n",
              "    .dataframe tbody tr th:only-of-type {\n",
              "        vertical-align: middle;\n",
              "    }\n",
              "\n",
              "    .dataframe tbody tr th {\n",
              "        vertical-align: top;\n",
              "    }\n",
              "\n",
              "    .dataframe thead th {\n",
              "        text-align: right;\n",
              "    }\n",
              "</style>\n",
              "<table border=\"1\" class=\"dataframe\">\n",
              "  <thead>\n",
              "    <tr style=\"text-align: right;\">\n",
              "      <th></th>\n",
              "      <th>word</th>\n",
              "      <th>frequency</th>\n",
              "      <th>doc1</th>\n",
              "      <th>doc2</th>\n",
              "      <th>doc3</th>\n",
              "      <th>doc4</th>\n",
              "      <th>doc5</th>\n",
              "      <th>doc6</th>\n",
              "      <th>max</th>\n",
              "    </tr>\n",
              "  </thead>\n",
              "  <tbody>\n",
              "    <tr>\n",
              "      <th>12</th>\n",
              "      <td>가로수</td>\n",
              "      <td>6</td>\n",
              "      <td>10.750557</td>\n",
              "      <td>0.0</td>\n",
              "      <td>0.0</td>\n",
              "      <td>0.000000</td>\n",
              "      <td>0.0</td>\n",
              "      <td>0.0</td>\n",
              "      <td>10.750557</td>\n",
              "    </tr>\n",
              "    <tr>\n",
              "      <th>9</th>\n",
              "      <td>우~</td>\n",
              "      <td>6</td>\n",
              "      <td>10.750557</td>\n",
              "      <td>0.0</td>\n",
              "      <td>0.0</td>\n",
              "      <td>0.000000</td>\n",
              "      <td>0.0</td>\n",
              "      <td>0.0</td>\n",
              "      <td>10.750557</td>\n",
              "    </tr>\n",
              "    <tr>\n",
              "      <th>29</th>\n",
              "      <td>노을만</td>\n",
              "      <td>5</td>\n",
              "      <td>0.000000</td>\n",
              "      <td>0.0</td>\n",
              "      <td>0.0</td>\n",
              "      <td>8.958797</td>\n",
              "      <td>0.0</td>\n",
              "      <td>0.0</td>\n",
              "      <td>8.958797</td>\n",
              "    </tr>\n",
              "    <tr>\n",
              "      <th>17</th>\n",
              "      <td>타는데</td>\n",
              "      <td>5</td>\n",
              "      <td>0.000000</td>\n",
              "      <td>0.0</td>\n",
              "      <td>0.0</td>\n",
              "      <td>8.958797</td>\n",
              "      <td>0.0</td>\n",
              "      <td>0.0</td>\n",
              "      <td>8.958797</td>\n",
              "    </tr>\n",
              "    <tr>\n",
              "      <th>19</th>\n",
              "      <td>대답</td>\n",
              "      <td>5</td>\n",
              "      <td>0.000000</td>\n",
              "      <td>0.0</td>\n",
              "      <td>0.0</td>\n",
              "      <td>8.958797</td>\n",
              "      <td>0.0</td>\n",
              "      <td>0.0</td>\n",
              "      <td>8.958797</td>\n",
              "    </tr>\n",
              "    <tr>\n",
              "      <th>20</th>\n",
              "      <td>소리쳐</td>\n",
              "      <td>5</td>\n",
              "      <td>0.000000</td>\n",
              "      <td>0.0</td>\n",
              "      <td>0.0</td>\n",
              "      <td>8.958797</td>\n",
              "      <td>0.0</td>\n",
              "      <td>0.0</td>\n",
              "      <td>8.958797</td>\n",
              "    </tr>\n",
              "    <tr>\n",
              "      <th>21</th>\n",
              "      <td>부르지만</td>\n",
              "      <td>5</td>\n",
              "      <td>0.000000</td>\n",
              "      <td>0.0</td>\n",
              "      <td>0.0</td>\n",
              "      <td>8.958797</td>\n",
              "      <td>0.0</td>\n",
              "      <td>0.0</td>\n",
              "      <td>8.958797</td>\n",
              "    </tr>\n",
              "    <tr>\n",
              "      <th>22</th>\n",
              "      <td>너를</td>\n",
              "      <td>5</td>\n",
              "      <td>0.000000</td>\n",
              "      <td>0.0</td>\n",
              "      <td>0.0</td>\n",
              "      <td>8.958797</td>\n",
              "      <td>0.0</td>\n",
              "      <td>0.0</td>\n",
              "      <td>8.958797</td>\n",
              "    </tr>\n",
              "    <tr>\n",
              "      <th>24</th>\n",
              "      <td>사랑하네</td>\n",
              "      <td>5</td>\n",
              "      <td>0.000000</td>\n",
              "      <td>0.0</td>\n",
              "      <td>0.0</td>\n",
              "      <td>8.958797</td>\n",
              "      <td>0.0</td>\n",
              "      <td>0.0</td>\n",
              "      <td>8.958797</td>\n",
              "    </tr>\n",
              "    <tr>\n",
              "      <th>25</th>\n",
              "      <td>붉게</td>\n",
              "      <td>5</td>\n",
              "      <td>0.000000</td>\n",
              "      <td>0.0</td>\n",
              "      <td>0.0</td>\n",
              "      <td>8.958797</td>\n",
              "      <td>0.0</td>\n",
              "      <td>0.0</td>\n",
              "      <td>8.958797</td>\n",
              "    </tr>\n",
              "  </tbody>\n",
              "</table>\n",
              "</div>"
            ],
            "text/plain": [
              "    word  frequency       doc1  doc2  doc3      doc4  doc5  doc6        max\n",
              "12   가로수          6  10.750557   0.0   0.0  0.000000   0.0   0.0  10.750557\n",
              "9     우~          6  10.750557   0.0   0.0  0.000000   0.0   0.0  10.750557\n",
              "29   노을만          5   0.000000   0.0   0.0  8.958797   0.0   0.0   8.958797\n",
              "17   타는데          5   0.000000   0.0   0.0  8.958797   0.0   0.0   8.958797\n",
              "19    대답          5   0.000000   0.0   0.0  8.958797   0.0   0.0   8.958797\n",
              "20   소리쳐          5   0.000000   0.0   0.0  8.958797   0.0   0.0   8.958797\n",
              "21  부르지만          5   0.000000   0.0   0.0  8.958797   0.0   0.0   8.958797\n",
              "22    너를          5   0.000000   0.0   0.0  8.958797   0.0   0.0   8.958797\n",
              "24  사랑하네          5   0.000000   0.0   0.0  8.958797   0.0   0.0   8.958797\n",
              "25    붉게          5   0.000000   0.0   0.0  8.958797   0.0   0.0   8.958797"
            ]
          },
          "metadata": {
            "tags": []
          },
          "execution_count": 12
        }
      ]
    },
    {
      "cell_type": "code",
      "metadata": {
        "colab": {
          "base_uri": "https://localhost:8080/",
          "height": 359
        },
        "id": "cB4m-pdKdIQh",
        "outputId": "8f01c4f5-8dfc-424d-aae0-3f6ae3c4d2e9"
      },
      "source": [
        "df.tail(10)"
      ],
      "execution_count": null,
      "outputs": [
        {
          "output_type": "execute_result",
          "data": {
            "text/html": [
              "<div>\n",
              "<style scoped>\n",
              "    .dataframe tbody tr th:only-of-type {\n",
              "        vertical-align: middle;\n",
              "    }\n",
              "\n",
              "    .dataframe tbody tr th {\n",
              "        vertical-align: top;\n",
              "    }\n",
              "\n",
              "    .dataframe thead th {\n",
              "        text-align: right;\n",
              "    }\n",
              "</style>\n",
              "<table border=\"1\" class=\"dataframe\">\n",
              "  <thead>\n",
              "    <tr style=\"text-align: right;\">\n",
              "      <th></th>\n",
              "      <th>word</th>\n",
              "      <th>frequency</th>\n",
              "      <th>doc1</th>\n",
              "      <th>doc2</th>\n",
              "      <th>doc3</th>\n",
              "      <th>doc4</th>\n",
              "      <th>doc5</th>\n",
              "      <th>doc6</th>\n",
              "      <th>max</th>\n",
              "    </tr>\n",
              "  </thead>\n",
              "  <tbody>\n",
              "    <tr>\n",
              "      <th>212</th>\n",
              "      <td>거짓인가</td>\n",
              "      <td>1</td>\n",
              "      <td>0.000000</td>\n",
              "      <td>0.0</td>\n",
              "      <td>0.000000</td>\n",
              "      <td>0.000000</td>\n",
              "      <td>0.000000</td>\n",
              "      <td>1.791759</td>\n",
              "      <td>1.791759</td>\n",
              "    </tr>\n",
              "    <tr>\n",
              "      <th>211</th>\n",
              "      <td>지겨울</td>\n",
              "      <td>1</td>\n",
              "      <td>0.000000</td>\n",
              "      <td>0.0</td>\n",
              "      <td>0.000000</td>\n",
              "      <td>0.000000</td>\n",
              "      <td>0.000000</td>\n",
              "      <td>1.791759</td>\n",
              "      <td>1.791759</td>\n",
              "    </tr>\n",
              "    <tr>\n",
              "      <th>210</th>\n",
              "      <td>하는데</td>\n",
              "      <td>1</td>\n",
              "      <td>1.791759</td>\n",
              "      <td>0.0</td>\n",
              "      <td>0.000000</td>\n",
              "      <td>0.000000</td>\n",
              "      <td>0.000000</td>\n",
              "      <td>0.000000</td>\n",
              "      <td>1.791759</td>\n",
              "    </tr>\n",
              "    <tr>\n",
              "      <th>209</th>\n",
              "      <td>위에</td>\n",
              "      <td>1</td>\n",
              "      <td>0.000000</td>\n",
              "      <td>0.0</td>\n",
              "      <td>0.000000</td>\n",
              "      <td>0.000000</td>\n",
              "      <td>0.000000</td>\n",
              "      <td>1.791759</td>\n",
              "      <td>1.791759</td>\n",
              "    </tr>\n",
              "    <tr>\n",
              "      <th>208</th>\n",
              "      <td>잎새</td>\n",
              "      <td>1</td>\n",
              "      <td>0.000000</td>\n",
              "      <td>0.0</td>\n",
              "      <td>0.000000</td>\n",
              "      <td>0.000000</td>\n",
              "      <td>0.000000</td>\n",
              "      <td>1.791759</td>\n",
              "      <td>1.791759</td>\n",
              "    </tr>\n",
              "    <tr>\n",
              "      <th>207</th>\n",
              "      <td>푸르른</td>\n",
              "      <td>1</td>\n",
              "      <td>0.000000</td>\n",
              "      <td>0.0</td>\n",
              "      <td>0.000000</td>\n",
              "      <td>0.000000</td>\n",
              "      <td>0.000000</td>\n",
              "      <td>1.791759</td>\n",
              "      <td>1.791759</td>\n",
              "    </tr>\n",
              "    <tr>\n",
              "      <th>206</th>\n",
              "      <td>봄날</td>\n",
              "      <td>1</td>\n",
              "      <td>0.000000</td>\n",
              "      <td>0.0</td>\n",
              "      <td>0.000000</td>\n",
              "      <td>0.000000</td>\n",
              "      <td>0.000000</td>\n",
              "      <td>1.791759</td>\n",
              "      <td>1.791759</td>\n",
              "    </tr>\n",
              "    <tr>\n",
              "      <th>205</th>\n",
              "      <td>녹은</td>\n",
              "      <td>1</td>\n",
              "      <td>0.000000</td>\n",
              "      <td>0.0</td>\n",
              "      <td>0.000000</td>\n",
              "      <td>0.000000</td>\n",
              "      <td>0.000000</td>\n",
              "      <td>1.791759</td>\n",
              "      <td>1.791759</td>\n",
              "    </tr>\n",
              "    <tr>\n",
              "      <th>204</th>\n",
              "      <td>흘러넘쳐</td>\n",
              "      <td>1</td>\n",
              "      <td>0.000000</td>\n",
              "      <td>0.0</td>\n",
              "      <td>0.000000</td>\n",
              "      <td>0.000000</td>\n",
              "      <td>0.000000</td>\n",
              "      <td>1.791759</td>\n",
              "      <td>1.791759</td>\n",
              "    </tr>\n",
              "    <tr>\n",
              "      <th>0</th>\n",
              "      <td>그대</td>\n",
              "      <td>15</td>\n",
              "      <td>0.364643</td>\n",
              "      <td>0.0</td>\n",
              "      <td>0.546965</td>\n",
              "      <td>0.729286</td>\n",
              "      <td>0.546965</td>\n",
              "      <td>0.546965</td>\n",
              "      <td>0.729286</td>\n",
              "    </tr>\n",
              "  </tbody>\n",
              "</table>\n",
              "</div>"
            ],
            "text/plain": [
              "     word  frequency      doc1  doc2  ...      doc4      doc5      doc6       max\n",
              "212  거짓인가          1  0.000000   0.0  ...  0.000000  0.000000  1.791759  1.791759\n",
              "211   지겨울          1  0.000000   0.0  ...  0.000000  0.000000  1.791759  1.791759\n",
              "210   하는데          1  1.791759   0.0  ...  0.000000  0.000000  0.000000  1.791759\n",
              "209    위에          1  0.000000   0.0  ...  0.000000  0.000000  1.791759  1.791759\n",
              "208    잎새          1  0.000000   0.0  ...  0.000000  0.000000  1.791759  1.791759\n",
              "207   푸르른          1  0.000000   0.0  ...  0.000000  0.000000  1.791759  1.791759\n",
              "206    봄날          1  0.000000   0.0  ...  0.000000  0.000000  1.791759  1.791759\n",
              "205    녹은          1  0.000000   0.0  ...  0.000000  0.000000  1.791759  1.791759\n",
              "204  흘러넘쳐          1  0.000000   0.0  ...  0.000000  0.000000  1.791759  1.791759\n",
              "0      그대         15  0.364643   0.0  ...  0.729286  0.546965  0.546965  0.729286\n",
              "\n",
              "[10 rows x 9 columns]"
            ]
          },
          "metadata": {
            "tags": []
          },
          "execution_count": 13
        }
      ]
    }
  ]
}