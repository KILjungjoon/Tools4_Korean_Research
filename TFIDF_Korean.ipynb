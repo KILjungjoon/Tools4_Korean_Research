{
  "nbformat": 4,
  "nbformat_minor": 0,
  "metadata": {
    "colab": {
      "name": "TFIDF_Korean",
      "provenance": [],
      "collapsed_sections": [],
      "toc_visible": true
    },
    "kernelspec": {
      "name": "python3",
      "display_name": "Python 3"
    },
    "language_info": {
      "name": "python"
    }
  },
  "cells": [
    {
      "cell_type": "markdown",
      "metadata": {
        "id": "F4ZWv7z9KYDa"
      },
      "source": [
        "### 1 . To define a TF function [문서 내의 단어들의 출현 빈도(TF)를 세는 함수 정의]"
      ]
    },
    {
      "cell_type": "code",
      "metadata": {
        "id": "OFCZwRE4-7tQ"
      },
      "source": [
        "import pandas as pd\n",
        "\n",
        "def get_term_frequency(document, word_dict=None): \n",
        "  if word_dict is None:\n",
        "      word_dict = {} \n",
        "  words = document.split()\n",
        "\n",
        "  for w in words:\n",
        "      word_dict[w] = 1 + (0 if word_dict.get(w) is None else word_dict[w])\n",
        "\n",
        "  return pd.Series(word_dict).sort_values (ascending=False)"
      ],
      "execution_count": null,
      "outputs": []
    }
  ]
}